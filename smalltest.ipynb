{
 "cells": [
  {
   "cell_type": "code",
   "execution_count": 2,
   "metadata": {},
   "outputs": [],
   "source": [
    "import requests\n",
    "import pandas as pd\n",
    "import numpy as np"
   ]
  },
  {
   "cell_type": "code",
   "execution_count": 3,
   "metadata": {},
   "outputs": [],
   "source": [
    "disc_genes=\"./MLM.DTF.GWAS.Results/summary_genes_discovered.txt\"\n",
    "keywords_list=\"./mock_keyword_list.txt\""
   ]
  },
  {
   "cell_type": "code",
   "execution_count": null,
   "metadata": {},
   "outputs": [],
   "source": [
    "def knetapi(disc_genes):\n",
    "    with open(disc_genes, \"r\") as fs:\n",
    "        next(fs)\n",
    "        genes = []\n",
    "        with open(keywords_list, \"r\") as fl:\n",
    "            pheno=[]\n",
    "            for line in fl:\n",
    "                pheno.append(line.rstrip())\n",
    "            for line in fs:\n",
    "                col=line.split(\"\\t\")\n",
    "                genes.append(col[0])\n",
    "                genelist=(\",\").join(genes)\n",
    "            print(genelist)\n",
    "                \n",
    "            #obtain knetminer genome API for genetable.\n",
    "            keyw1=\"%20OR%20\".join(\"({})\".format(i.replace(\" \", \"+AND+\")) for i in pheno)\n",
    "            link=\"http://knetminer.rothamsted.ac.uk/riceknet/genome?\"\n",
    "            parameters = {\"keyword\":keyw1, \"list\":genelist}\n",
    "            #r = requests.get(link, params=parameters)\n",
    "            \n",
    "            if not r.ok:\n",
    "                r.raise_for_status()\n",
    "                sys.exit()\n",
    "                \n",
    "            #extract genetable as tab delimited string from json\n",
    "            decoded=r.json()[u'geneTable'].split(\"\\t\")\n",
    "            #the last element is a newline or sometimes space. Remove this.\n",
    "            decoded=(decoded)[:-1]\n",
    "            \n",
    "            #tabulate genetable into dataframe by having 9 columns.\n",
    "            colnum=9\n",
    "            genetable=np.array(decoded).reshape(len(decoded)//colnum, colnum)\n",
    "            genetable=pd.DataFrame(genetable[1:,:], columns=genetable[0,:])\n",
    "        \n",
    "            \n",
    "            \n",
    "knetapi(disc_genes)"
   ]
  },
  {
   "cell_type": "code",
   "execution_count": null,
   "metadata": {},
   "outputs": [],
   "source": [
    "def alternate():\n",
    "    content=pd.read_csv(disc_genes, sep=\"\\t\")\n",
    "    content"
   ]
  },
  {
   "cell_type": "code",
   "execution_count": null,
   "metadata": {},
   "outputs": [],
   "source": []
  }
 ],
 "metadata": {
  "kernelspec": {
   "display_name": "Python 2",
   "language": "python",
   "name": "python2"
  },
  "language_info": {
   "codemirror_mode": {
    "name": "ipython",
    "version": 2
   },
   "file_extension": ".py",
   "mimetype": "text/x-python",
   "name": "python",
   "nbconvert_exporter": "python",
   "pygments_lexer": "ipython2",
   "version": "2.7.15"
  }
 },
 "nbformat": 4,
 "nbformat_minor": 2
}
